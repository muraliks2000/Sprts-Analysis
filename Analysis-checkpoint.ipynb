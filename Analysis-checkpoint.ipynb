{
 "cells": [
  {
   "cell_type": "code",
   "execution_count": 5,
   "id": "af0544bc-8fce-472c-8150-7d63fd98639d",
   "metadata": {},
   "outputs": [
    {
     "name": "stdout",
     "output_type": "stream",
     "text": [
      "   Striker_ID Nationality    Footedness Marital Status  Goals Scored  \\\n",
      "0           1       Spain   Left-footed             No     17.483571   \n",
      "1           2      France   Left-footed            Yes     14.308678   \n",
      "2           3     Germany   Left-footed             No     18.238443   \n",
      "3           4      France  Right-footed             No     22.615149   \n",
      "4           5      France   Left-footed            Yes     13.829233   \n",
      "\n",
      "     Assists  Shots on Target  Shot Accuracy  Conversion Rate  \\\n",
      "0  10.778533        34.795488       0.677836         0.166241   \n",
      "1  13.728250        31.472436       0.544881         0.192774   \n",
      "2   3.804297        25.417413       0.518180         0.160379   \n",
      "3   9.688908        20.471443       0.599663         0.184602   \n",
      "4   6.048072        29.887563       0.582982         0.105319   \n",
      "\n",
      "   Dribbling Success  Movement off the Ball  Hold-up Play  Aerial Duels Won  \\\n",
      "0           0.757061              50.921924     71.806409         15.682532   \n",
      "1           0.796818              61.396150     53.726866         19.843983   \n",
      "2           0.666869              65.863945     60.452227         20.090084   \n",
      "3           0.638776              88.876877     60.511979         22.363152   \n",
      "4           0.591485              75.565531     54.982158         13.165708   \n",
      "\n",
      "   Defensive Contribution  Big Game Performance  Consistency  \\\n",
      "0               30.412215              6.152481     0.820314   \n",
      "1               26.474913              6.093172     0.803321   \n",
      "2               24.164116              3.408714     0.766540   \n",
      "3               44.129989              6.339820     0.611798   \n",
      "4               37.859323              8.465658     0.701638   \n",
      "\n",
      "   Penalty Success Rate  Impact on Team Performance  Off-field Conduct  \n",
      "0              0.922727                    8.570370          11.451388  \n",
      "1              0.678984                    3.444638           8.243689  \n",
      "2              0.843858                    8.429491           9.506835  \n",
      "3              0.662997                    6.532552           8.199653  \n",
      "4              0.906538                    8.414915           6.665333  \n"
     ]
    }
   ],
   "source": [
    "import pandas as pd\n",
    "df = pd.read_excel(r\"E:\\Python\\sports data\\Strikers_performance.xlsx\")\n",
    "print(df.head())"
   ]
  },
  {
   "cell_type": "code",
   "execution_count": 26,
   "id": "582e3cd5-9fef-457b-99c8-6a4418de43bc",
   "metadata": {},
   "outputs": [
    {
     "name": "stderr",
     "output_type": "stream",
     "text": [
      "C:\\Users\\Murali\\AppData\\Local\\Temp\\ipykernel_6616\\2768226031.py:2: FutureWarning: A value is trying to be set on a copy of a DataFrame or Series through chained assignment using an inplace method.\n",
      "The behavior will change in pandas 3.0. This inplace method will never work because the intermediate object on which we are setting values always behaves as a copy.\n",
      "\n",
      "For example, when doing 'df[col].method(value, inplace=True)', try using 'df.method({col: value}, inplace=True)' or df[col] = df[col].method(value) instead, to perform the operation inplace on the original object.\n",
      "\n",
      "\n",
      "  df['Movement off the Ball'].fillna(med, inplace = True)\n",
      "C:\\Users\\Murali\\AppData\\Local\\Temp\\ipykernel_6616\\2768226031.py:5: FutureWarning: A value is trying to be set on a copy of a DataFrame or Series through chained assignment using an inplace method.\n",
      "The behavior will change in pandas 3.0. This inplace method will never work because the intermediate object on which we are setting values always behaves as a copy.\n",
      "\n",
      "For example, when doing 'df[col].method(value, inplace=True)', try using 'df.method({col: value}, inplace=True)' or df[col] = df[col].method(value) instead, to perform the operation inplace on the original object.\n",
      "\n",
      "\n",
      "  df['Big Game Performance'].fillna(med, inplace = True)\n",
      "C:\\Users\\Murali\\AppData\\Local\\Temp\\ipykernel_6616\\2768226031.py:8: FutureWarning: A value is trying to be set on a copy of a DataFrame or Series through chained assignment using an inplace method.\n",
      "The behavior will change in pandas 3.0. This inplace method will never work because the intermediate object on which we are setting values always behaves as a copy.\n",
      "\n",
      "For example, when doing 'df[col].method(value, inplace=True)', try using 'df.method({col: value}, inplace=True)' or df[col] = df[col].method(value) instead, to perform the operation inplace on the original object.\n",
      "\n",
      "\n",
      "  df['Penalty Success Rate'].fillna(med, inplace = True)\n"
     ]
    }
   ],
   "source": [
    "med = df['Movement off the Ball'].median()\n",
    "df['Movement off the Ball'].fillna(med, inplace = True)\n",
    "\n",
    "med = df['Big Game Performance'].median()\n",
    "df['Big Game Performance'].fillna(med, inplace = True)\n",
    "\n",
    "med = df['Penalty Success Rate'].median()\n",
    "df['Penalty Success Rate'].fillna(med, inplace = True)"
   ]
  },
  {
   "cell_type": "code",
   "execution_count": 27,
   "id": "ba0f7e21-f715-4f3e-b8b2-d5749b279091",
   "metadata": {},
   "outputs": [
    {
     "name": "stdout",
     "output_type": "stream",
     "text": [
      "<class 'pandas.core.frame.DataFrame'>\n",
      "RangeIndex: 500 entries, 0 to 499\n",
      "Data columns (total 19 columns):\n",
      " #   Column                      Non-Null Count  Dtype  \n",
      "---  ------                      --------------  -----  \n",
      " 0   Striker_ID                  500 non-null    int64  \n",
      " 1   Nationality                 500 non-null    object \n",
      " 2   Footedness                  500 non-null    object \n",
      " 3   Marital Status              500 non-null    object \n",
      " 4   Goals Scored                500 non-null    float64\n",
      " 5   Assists                     500 non-null    float64\n",
      " 6   Shots on Target             500 non-null    float64\n",
      " 7   Shot Accuracy               500 non-null    float64\n",
      " 8   Conversion Rate             500 non-null    float64\n",
      " 9   Dribbling Success           500 non-null    float64\n",
      " 10  Movement off the Ball       500 non-null    float64\n",
      " 11  Hold-up Play                500 non-null    float64\n",
      " 12  Aerial Duels Won            500 non-null    float64\n",
      " 13  Defensive Contribution      500 non-null    float64\n",
      " 14  Big Game Performance        500 non-null    float64\n",
      " 15  Consistency                 500 non-null    float64\n",
      " 16  Penalty Success Rate        500 non-null    float64\n",
      " 17  Impact on Team Performance  500 non-null    float64\n",
      " 18  Off-field Conduct           500 non-null    float64\n",
      "dtypes: float64(15), int64(1), object(3)\n",
      "memory usage: 74.3+ KB\n",
      "None\n"
     ]
    }
   ],
   "source": [
    "print(df.info())"
   ]
  },
  {
   "cell_type": "code",
   "execution_count": 28,
   "id": "44f8ba34-a22c-4f33-bb81-e25c63132712",
   "metadata": {},
   "outputs": [
    {
     "name": "stdout",
     "output_type": "stream",
     "text": [
      "       Striker_ID  Goals Scored  Assists  Shots on Target  Shot Accuracy  \\\n",
      "count      500.00        500.00   500.00           500.00         500.00   \n",
      "mean       250.50         15.04     8.10            25.76           0.60   \n",
      "std        144.48          4.90     2.93             7.07           0.10   \n",
      "min          1.00          0.00     0.00             4.73           0.31   \n",
      "25%        125.75         11.50     6.21            20.78           0.54   \n",
      "50%        250.50         15.06     8.09            25.84           0.60   \n",
      "75%        375.25         18.18     9.95            30.28           0.67   \n",
      "max        500.00         34.26    15.90            43.21           0.92   \n",
      "\n",
      "       Conversion Rate  Dribbling Success  Movement off the Ball  \\\n",
      "count           500.00             500.00                 500.00   \n",
      "mean              0.20               0.70                  69.79   \n",
      "std               0.05               0.10                  10.34   \n",
      "min               0.05               0.40                  40.71   \n",
      "25%               0.17               0.64                  62.70   \n",
      "50%               0.20               0.70                  69.62   \n",
      "75%               0.23               0.76                  76.93   \n",
      "max               0.36               1.00                  98.68   \n",
      "\n",
      "       Hold-up Play  Aerial Duels Won  Defensive Contribution  \\\n",
      "count        500.00            500.00                  500.00   \n",
      "mean          59.81             19.53                   39.95   \n",
      "std           10.17              4.96                    9.92   \n",
      "min           35.07              4.96                    8.23   \n",
      "25%           52.43             16.40                   33.46   \n",
      "50%           60.08             19.74                   39.98   \n",
      "75%           66.03             22.86                   46.69   \n",
      "max           92.43             34.07                   71.13   \n",
      "\n",
      "       Big Game Performance  Consistency  Penalty Success Rate  \\\n",
      "count                500.00       500.00                500.00   \n",
      "mean                   6.93         0.74                  0.80   \n",
      "std                    1.94         0.10                  0.10   \n",
      "min                    2.23         0.46                  0.53   \n",
      "25%                    5.69         0.68                  0.72   \n",
      "50%                    6.91         0.75                  0.80   \n",
      "75%                    8.13         0.81                  0.87   \n",
      "max                   12.87         1.00                  1.00   \n",
      "\n",
      "       Impact on Team Performance  Off-field Conduct  \n",
      "count                      500.00             500.00  \n",
      "mean                         7.01               8.06  \n",
      "std                          2.10               2.07  \n",
      "min                          0.56               0.62  \n",
      "25%                          5.66               6.62  \n",
      "50%                          6.99               8.02  \n",
      "75%                          8.43               9.45  \n",
      "max                         13.24              13.73  \n"
     ]
    }
   ],
   "source": [
    "descriptive_stats = df.describe()\n",
    "\n",
    "# Round the values to 2 decimal points\n",
    "descriptive_stats_rounded = descriptive_stats.round(2)\n",
    "\n",
    "# Display the rounded descriptive statistics\n",
    "print(descriptive_stats_rounded)\n"
   ]
  },
  {
   "cell_type": "code",
   "execution_count": 39,
   "id": "d916c5c4-e9e9-4da0-89a0-03a9f0682b9a",
   "metadata": {},
   "outputs": [
    {
     "name": "stdout",
     "output_type": "stream",
     "text": [
      "Footedness\n",
      "Right-footed    53.4\n",
      "Left-footed     46.6\n",
      "Name: count, dtype: float64\n"
     ]
    }
   ],
   "source": [
    "footedness_counts = df['Footedness'].value_counts()\n",
    "footedness_percentages = footedness_counts / footedness_counts.sum() * 100\n",
    "print(round(footedness_percentages,2))"
   ]
  },
  {
   "cell_type": "code",
   "execution_count": 55,
   "id": "5b5f5b05-b580-46eb-bd5a-951c05a478b4",
   "metadata": {},
   "outputs": [
    {
     "data": {
      "image/png": "[encoded data removed]",
      "text/plain": [
       "<Figure size 600x400 with 1 Axes>"
      ]
     },
     "metadata": {},
     "output_type": "display_data"
    }
   ],
   "source": [
    "import matplotlib.pyplot as plt\n",
    "\n",
    "plt.figure(figsize=(6, 4))\n",
    "plt.pie(footedness_percentages, labels=footedness_percentages.index, autopct='%1.1f%%')\n",
    "plt.title('Footedness Distribution')\n",
    "plt.show()"
   ]
  },
  {
   "cell_type": "code",
   "execution_count": 58,
   "id": "36af4873-0de9-4b81-98b6-c4e9df34da37",
   "metadata": {},
   "outputs": [
    {
     "data": {
      "image/png": "[encoded data removed]",
      "text/plain": [
       "<Figure size 1200x800 with 1 Axes>"
      ]
     },
     "metadata": {},
     "output_type": "display_data"
    }
   ],
   "source": [
    "import seaborn as sns\n",
    "plt.figure(figsize=(12, 8))\n",
    "sns.countplot(data=df, x='Footedness', hue='Nationality')\n",
    "\n",
    "plt.xlabel('Footedness')\n",
    "plt.ylabel('Count')\n",
    "plt.title('Distribution of Footedness Across Nationalities')\n",
    "plt.legend(title='Nationality')\n",
    "plt.show()\n"
   ]
  },
  {
   "cell_type": "code",
   "execution_count": 60,
   "id": "235ed306-55ad-4663-8206-a4e14ff3497d",
   "metadata": {},
   "outputs": [
    {
     "name": "stdout",
     "output_type": "stream",
     "text": [
      "Nationality\n",
      "Brazil     15.804927\n",
      "Spain      15.196491\n",
      "France     14.900827\n",
      "Germany    14.860242\n",
      "England    14.465756\n",
      "Name: Goals Scored, dtype: float64\n"
     ]
    }
   ],
   "source": [
    "average_goals = df.groupby('Nationality')['Goals Scored'].mean().sort_values(ascending=False)\n",
    "print(average_goals)"
   ]
  },
  {
   "cell_type": "code",
   "execution_count": 61,
   "id": "4fab2552-8839-4b42-b252-20a4c3e004df",
   "metadata": {},
   "outputs": [
    {
     "name": "stdout",
     "output_type": "stream",
     "text": [
      "Footedness\n",
      "Right-footed    15.316624\n",
      "Left-footed     14.715720\n",
      "Name: Goals Scored, dtype: float64\n"
     ]
    }
   ],
   "source": [
    "average_goals = df.groupby('Footedness')['Goals Scored'].mean().sort_values(ascending=False)\n",
    "print(average_goals)"
   ]
  },
  {
   "cell_type": "code",
   "execution_count": 7,
   "id": "32634182-6414-4fc1-a2a8-954249d88077",
   "metadata": {},
   "outputs": [
    {
     "name": "stdout",
     "output_type": "stream",
     "text": [
      "   TotalContributionScore\n",
      "0              116.882195\n",
      "1              113.521571\n",
      "2               96.556476\n",
      "3              126.859035\n",
      "4              110.548681\n"
     ]
    }
   ],
   "source": [
    "# Ensure that these columns exist in the DataFrame\n",
    "columns_to_sum = [\n",
    "    'Goals Scored',\n",
    "    'Assists',\n",
    "    'Shots on Target',\n",
    "    'Dribbling Success',\n",
    "    'Aerial Duels Won',\n",
    "    'Defensive Contribution',\n",
    "    'Big Game Performance',\n",
    "    'Consistency'\n",
    "]\n",
    "\n",
    "# Create the Total Contribution Score\n",
    "df['TotalContributionScore'] = df[columns_to_sum].sum(axis=1)\n",
    "\n",
    "# Display the first few rows to verify\n",
    "print(df[['TotalContributionScore']].head())\n"
   ]
  },
  {
   "cell_type": "code",
   "execution_count": 18,
   "id": "9382a033-ad78-4653-9a1d-89f5d0c46d0f",
   "metadata": {},
   "outputs": [],
   "source": [
    "df_sorted = df.sort_values(by='TotalContributionScore', ascending=False)"
   ]
  },
  {
   "cell_type": "code",
   "execution_count": null,
   "id": "aeb73689-bf11-4e74-a077-f4dc0dc571f9",
   "metadata": {},
   "outputs": [],
   "source": []
  }
 ],
 "metadata": {
  "kernelspec": {
   "display_name": "Python 3 (ipykernel)",
   "language": "python",
   "name": "python3"
  },
  "language_info": {
   "codemirror_mode": {
    "name": "ipython",
    "version": 3
   },
   "file_extension": ".py",
   "mimetype": "text/x-python",
   "name": "python",
   "nbconvert_exporter": "python",
   "pygments_lexer": "ipython3",
   "version": "3.12.5"
  }
 },
 "nbformat": 4,
 "nbformat_minor": 5
}
